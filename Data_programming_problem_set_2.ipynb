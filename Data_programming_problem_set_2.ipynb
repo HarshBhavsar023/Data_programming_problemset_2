{
  "nbformat": 4,
  "nbformat_minor": 0,
  "metadata": {
    "colab": {
      "provenance": [],
      "authorship_tag": "ABX9TyMSB3AdvzqdeUdxdY+V85xJ"
    },
    "kernelspec": {
      "name": "python3",
      "display_name": "Python 3"
    },
    "language_info": {
      "name": "python"
    }
  },
  "cells": [
    {
      "cell_type": "markdown",
      "source": [
        "---\n",
        "***Question 1***\n",
        "---\n",
        "---\n",
        "Consider the following Python module, After importing the module into the interpreter, you execute following things...\n",
        "\n",
        "What value is displayed when the last expression (a) is evaluated? Explain your\n",
        "answer by indicating what happens in every executed statement."
      ],
      "metadata": {
        "id": "iR65UjqSrMky"
      }
    },
    {
      "cell_type": "code",
      "source": [
        "a = 0\n",
        "def b():\n",
        "  global a\n",
        "  a = c(a)\n",
        "def c(a):\n",
        "  return a + 2"
      ],
      "metadata": {
        "id": "j3XxhOt_ybpR"
      },
      "execution_count": null,
      "outputs": []
    },
    {
      "cell_type": "code",
      "source": [
        "b()\n",
        "b()\n",
        "b()\n",
        "a"
      ],
      "metadata": {
        "colab": {
          "base_uri": "https://localhost:8080/"
        },
        "id": "pzeorWBfyfvw",
        "outputId": "ce1a1cff-9f39-4307-83cc-d807d6d02afc"
      },
      "execution_count": null,
      "outputs": [
        {
          "output_type": "execute_result",
          "data": {
            "text/plain": [
              "6"
            ]
          },
          "metadata": {},
          "execution_count": 8
        }
      ]
    },
    {
      "cell_type": "markdown",
      "source": [
        "Here,\n",
        "1. **a = 0**: 0 value is assigned to the variable 'a'.\n",
        "2. **def b()**: this line define the function named 'b'.\n",
        "3. **global a**: In the function named b there is global variable 'a' , here 'a' is taken as global beacuse it is declared outside the scope of class.\n",
        "4. **a = c(a)**: function 'c' is called with variable 'a' and again passed as a, so in this case initially function 'c' will take the current value of a which is declared as and again assigned as 'a'.\n",
        "5. **def c(a)**: function 'c' is defined as a function which takes the value 'a'.\n",
        "6. **return a+2**: This will return the value of a incremented with 2.\n",
        "\n",
        "so, inital value of a is 0 and it is declared global in function b. In c(a) functon 'c' is will call original value of a which is 0 but the the return value of 'c(a)' is 'a+2' therefore the value of a becomes 2 and again assigned to 'a'\n",
        "\n",
        "but, when 'b' is called second time 'a' is updated and now it becomes 4.\n",
        "similarly when is called third time 'a' is updated again and it will be 6.\n",
        "\n",
        "so when 'a' is called, it will display its current value , which in this case will be **6**."
      ],
      "metadata": {
        "id": "rAjpOKyQq8A9"
      }
    },
    {
      "cell_type": "markdown",
      "source": [
        "---\n",
        "***Question 2***\n",
        "---\n",
        "---\n",
        "Function fileLength(), given to you, takes the name of a file as input and return the length of the file:\n",
        "\n",
        "As shown above, if the file cannot be found by the interpreter or if it cannot be read as a text file, an exception will be raised. Modify function fileLength() so that a friendly message is printed instead:"
      ],
      "metadata": {
        "id": "ixAj5cJ20IVm"
      }
    },
    {
      "cell_type": "code",
      "source": [
        "def fileLength(file_name):\n",
        "    try:\n",
        "        with open(file_name, 'r') as file:\n",
        "            contents = file.read()\n",
        "            length = len(contents)\n",
        "            return length\n",
        "    except FileNotFoundError:\n",
        "        return \"File \" + file_name + \" not found\"\n",
        "\n",
        "length = fileLength('loren_lpsum.txt')\n",
        "print(length)\n"
      ],
      "metadata": {
        "colab": {
          "base_uri": "https://localhost:8080/"
        },
        "id": "2I33_npj0ANY",
        "outputId": "c0d66468-19c5-4623-a9be-f28221c8eeb3"
      },
      "execution_count": 21,
      "outputs": [
        {
          "output_type": "stream",
          "name": "stdout",
          "text": [
            "3666\n"
          ]
        }
      ]
    },
    {
      "cell_type": "code",
      "source": [
        "length = fileLength('ioren_ipsum.txt')\n",
        "print(length)"
      ],
      "metadata": {
        "colab": {
          "base_uri": "https://localhost:8080/"
        },
        "id": "Dgpo0mNh4EYE",
        "outputId": "8428a007-89a2-4fa5-b93d-708cc3e572d6"
      },
      "execution_count": 22,
      "outputs": [
        {
          "output_type": "stream",
          "name": "stdout",
          "text": [
            "File ioren_ipsum.txt not found\n"
          ]
        }
      ]
    },
    {
      "cell_type": "markdown",
      "source": [],
      "metadata": {
        "id": "6pvJqiD89NIX"
      }
    },
    {
      "cell_type": "markdown",
      "source": [
        "---\n",
        "***Question 3***\n",
        "---\n",
        "---\n",
        "\n",
        "Write a class named Marsupial that can be used as shown below:\n",
        ">>> m = Marsupial()\n",
        ">>> m.put_in_pouch('doll')\n",
        ">>> m.put_in_pouch('firetruck')\n",
        ">>> m.put_in_pouch('kitten')\n",
        ">>> m.pouch_contents()\n",
        "['doll', 'firetruck', 'kitten']\n",
        "\n",
        "Now write a class named Kangaroo as a subclass of Marsupial that inherits all the\n",
        "attributes of Marsupial and also:\n",
        "a. extends the Marsupial __init__ constructor to take, as input, the\n",
        "coordinates x and y of the Kangaroo object,\n",
        "b. supports method jump that takes number values dx and dy as input and\n",
        "moves the kangaroo by dx units along the x-axis and by dy units along the y-\n",
        "axis, and\n",
        "c. overloads the __str__ operator so it behaves as shown below.\n",
        ">>> k = Kangaroo(0,0)\n",
        ">>> print(k)\n",
        "I am a Kangaroo located at coordinates (0,0)\n",
        ">>> k.put_in_pouch('doll')\n",
        ">>> k.put_in_pouch('firetruck')\n",
        ">>> k.put_in_pouch('kitten')\n",
        ">>> k.pouch_contents()\n",
        "['doll', 'firetruck', 'kitten']\n",
        ">>> k.jump(1,0)\n",
        ">>> k.jump(1,0)\n",
        ">>> k.jump(1,0)\n",
        ">>> print(k)\n",
        "I am a Kangaroo located at coordinates (3,0)\n"
      ],
      "metadata": {
        "id": "1j_Jzhum9QA8"
      }
    },
    {
      "cell_type": "code",
      "source": [
        "class Marsupial:\n",
        "    def __init__(self):\n",
        "        self.pouch = []\n",
        "\n",
        "    def put_in_pouch(self, item):\n",
        "        self.pouch.append(item)\n",
        "\n",
        "    def pouch_contents(self):\n",
        "        return self.pouch\n",
        "\n",
        "\n",
        "class Kangaroo(Marsupial):\n",
        "    def __init__(self, x, y):\n",
        "        super().__init__()\n",
        "        self.x = x\n",
        "        self.y = y\n",
        "\n",
        "    def jump(self, dx, dy):\n",
        "        self.x += dx\n",
        "        self.y += dy\n",
        "\n",
        "    def __str__(self):\n",
        "        return \"I am a Kangaroo located at coordinates ({self.x},{self.y})\""
      ],
      "metadata": {
        "id": "66LpLG2M4PDV"
      },
      "execution_count": 33,
      "outputs": []
    },
    {
      "cell_type": "code",
      "source": [
        "m = Marsupial()\n",
        "m.put_in_pouch('doll')\n",
        "m.put_in_pouch('firetruck')\n",
        "m.put_in_pouch('kitten')\n",
        "print(m.pouch_contents())"
      ],
      "metadata": {
        "colab": {
          "base_uri": "https://localhost:8080/"
        },
        "id": "c-a-mzy38-60",
        "outputId": "80279425-04bc-40ca-d1b8-d229b209a955"
      },
      "execution_count": 34,
      "outputs": [
        {
          "output_type": "stream",
          "name": "stdout",
          "text": [
            "['doll', 'firetruck', 'kitten']\n"
          ]
        }
      ]
    },
    {
      "cell_type": "code",
      "source": [
        "k = Kangaroo(0, 0)\n",
        "print(k)\n",
        "\n",
        "k.put_in_pouch('doll')\n",
        "k.put_in_pouch('firetruck')\n",
        "k.put_in_pouch('kitten')\n",
        "print(k.pouch_contents())\n",
        "k.jump(1, 0)\n",
        "k.jump(1, 0)\n",
        "k.jump(1, 0)\n",
        "print(k)"
      ],
      "metadata": {
        "colab": {
          "base_uri": "https://localhost:8080/"
        },
        "id": "eb7vfJTz9BNQ",
        "outputId": "0b8b0c12-35ae-4ee8-9aab-5b021c4da038"
      },
      "execution_count": 35,
      "outputs": [
        {
          "output_type": "stream",
          "name": "stdout",
          "text": [
            "I am a Kangaroo located at coordinates ({self.x},{self.y})\n",
            "['doll', 'firetruck', 'kitten']\n",
            "I am a Kangaroo located at coordinates ({self.x},{self.y})\n"
          ]
        }
      ]
    },
    {
      "cell_type": "markdown",
      "source": [
        "---\n",
        "Question 4\n",
        "---\n",
        "---\n",
        "Write function collatz() that takes a positive integer x as input and prints the\n",
        "Collatz sequence starting at x. A Collatz sequence is obtained by repeatedly applying\n",
        "this rule to the previous number x in the sequence:\n",
        "\n",
        "x =  𝑥/2  ,𝑖𝑓 𝑥 𝑖𝑠 𝑒𝑣𝑒𝑛\n",
        "\n",
        "x = 3𝑥 + 1 ,𝑖𝑓 𝑥 𝑖𝑠 𝑜𝑑𝑑\n",
        "\n",
        "Your function should stop when the sequence gets to number 1. Your\n",
        "implementation must be recursive, without any loops."
      ],
      "metadata": {
        "id": "qNgEHhFy9fZM"
      }
    },
    {
      "cell_type": "code",
      "source": [
        "def collatz(x):\n",
        "    print(x)\n",
        "    if x == 1:\n",
        "        return\n",
        "    elif x % 2 == 0:\n",
        "        collatz(x // 2)\n",
        "    else:\n",
        "        collatz(3 * x + 1)"
      ],
      "metadata": {
        "id": "qbaQTas8-A2q"
      },
      "execution_count": 29,
      "outputs": []
    },
    {
      "cell_type": "code",
      "source": [
        "collatz(1)"
      ],
      "metadata": {
        "colab": {
          "base_uri": "https://localhost:8080/"
        },
        "id": "2dOY4T4a-XXF",
        "outputId": "05b3cc65-b02a-4d53-f5a0-150363dd6ecc"
      },
      "execution_count": 30,
      "outputs": [
        {
          "output_type": "stream",
          "name": "stdout",
          "text": [
            "1\n"
          ]
        }
      ]
    },
    {
      "cell_type": "code",
      "source": [
        "collatz(10)"
      ],
      "metadata": {
        "colab": {
          "base_uri": "https://localhost:8080/"
        },
        "id": "u8U3GH49-bCg",
        "outputId": "6f828ae3-a6fd-43de-ab4d-36afee131682"
      },
      "execution_count": 31,
      "outputs": [
        {
          "output_type": "stream",
          "name": "stdout",
          "text": [
            "10\n",
            "5\n",
            "16\n",
            "8\n",
            "4\n",
            "2\n",
            "1\n"
          ]
        }
      ]
    },
    {
      "cell_type": "code",
      "source": [
        "collatz(11)"
      ],
      "metadata": {
        "colab": {
          "base_uri": "https://localhost:8080/"
        },
        "id": "AKRI-t11-ekH",
        "outputId": "defeb34b-7fd8-4f60-ee5f-e717fca972a6"
      },
      "execution_count": 32,
      "outputs": [
        {
          "output_type": "stream",
          "name": "stdout",
          "text": [
            "11\n",
            "34\n",
            "17\n",
            "52\n",
            "26\n",
            "13\n",
            "40\n",
            "20\n",
            "10\n",
            "5\n",
            "16\n",
            "8\n",
            "4\n",
            "2\n",
            "1\n"
          ]
        }
      ]
    },
    {
      "cell_type": "markdown",
      "source": [
        "---\n",
        "Question 5\n",
        "---\n",
        "---\n",
        "Write a recursive method binary() that takes a non-negative\n",
        "integer n and prints the binary representation of integer n.\n",
        ">>> binary(0)\n",
        "0\n",
        "\n",
        ">>> binary(1)\n",
        "1\n",
        "\n",
        ">>> binary(3)\n",
        "11\n",
        "\n",
        ">>> binary(9)\n",
        "1001"
      ],
      "metadata": {
        "id": "R-jAQ0xh_BfN"
      }
    },
    {
      "cell_type": "code",
      "source": [
        "def binary(n):\n",
        "    if n == 0:\n",
        "        return n\n",
        "    binary(n // 2)\n",
        "    print(n % 2, end='')"
      ],
      "metadata": {
        "id": "XsFGsEe9_fUd"
      },
      "execution_count": 47,
      "outputs": []
    },
    {
      "cell_type": "code",
      "source": [
        "binary(0)"
      ],
      "metadata": {
        "colab": {
          "base_uri": "https://localhost:8080/"
        },
        "id": "dgLrSySqAEDo",
        "outputId": "b95b95ba-8369-4bd0-8ff9-8c3458e2cca3"
      },
      "execution_count": 48,
      "outputs": [
        {
          "output_type": "execute_result",
          "data": {
            "text/plain": [
              "0"
            ]
          },
          "metadata": {},
          "execution_count": 48
        }
      ]
    },
    {
      "cell_type": "code",
      "source": [
        "binary(1)"
      ],
      "metadata": {
        "colab": {
          "base_uri": "https://localhost:8080/"
        },
        "id": "tVSZbSM-AIG2",
        "outputId": "074beca4-3b10-4de4-c12f-aaf52c508031"
      },
      "execution_count": 49,
      "outputs": [
        {
          "output_type": "stream",
          "name": "stdout",
          "text": [
            "1"
          ]
        }
      ]
    },
    {
      "cell_type": "code",
      "source": [
        "binary(3)"
      ],
      "metadata": {
        "colab": {
          "base_uri": "https://localhost:8080/"
        },
        "id": "oOQOWKl8AM38",
        "outputId": "1d31b603-4876-42d5-84d4-d4f62cd95ceb"
      },
      "execution_count": 50,
      "outputs": [
        {
          "output_type": "stream",
          "name": "stdout",
          "text": [
            "11"
          ]
        }
      ]
    },
    {
      "cell_type": "code",
      "source": [
        "binary(9)"
      ],
      "metadata": {
        "colab": {
          "base_uri": "https://localhost:8080/"
        },
        "id": "UAwjmZq5AN5z",
        "outputId": "05c0176f-922c-4514-96ff-0679eaf9ff81"
      },
      "execution_count": 51,
      "outputs": [
        {
          "output_type": "stream",
          "name": "stdout",
          "text": [
            "1001"
          ]
        }
      ]
    },
    {
      "cell_type": "code",
      "source": [
        "binary(567)"
      ],
      "metadata": {
        "colab": {
          "base_uri": "https://localhost:8080/"
        },
        "id": "wj2C_EMHAvvB",
        "outputId": "47b3ec8f-faf4-4564-cbdd-4bf00bf48b34"
      },
      "execution_count": 52,
      "outputs": [
        {
          "output_type": "stream",
          "name": "stdout",
          "text": [
            "1000110111"
          ]
        }
      ]
    },
    {
      "cell_type": "markdown",
      "source": [
        "---\n",
        "***Question 6***\n",
        "---\n",
        "---\n",
        "Implement a class named HeadingParser that can be used to parse an HTML\n",
        "document, and retrieve and print all the headings in the document. You should\n",
        "implement your class as a subclass of HTMLParser, defined in Standard Library\n",
        "module html.parser. When fed a string containing HTML code, your class should\n",
        "print the headings, one per line and in the order in which they appear in the\n",
        "document. Each heading should be indented as follows: an h1 heading should have indentation 0, and h2 heading should have indentation 1, etc. Test your\n",
        "implementation using w3c.html."
      ],
      "metadata": {
        "id": "aHkpTyiYBLDp"
      }
    },
    {
      "cell_type": "code",
      "source": [
        "from html.parser import HTMLParser\n",
        "\n",
        "\n",
        "class HeadingParser(HTMLParser):\n",
        "    def __init__(self):\n",
        "        super().__init__()\n",
        "        self.indentation = 0\n",
        "\n",
        "    def handle_starttag(self, tag, attrs):\n",
        "        if tag.startswith('h'):\n",
        "            try:\n",
        "                self.indentation = int(tag[1:]) - 1\n",
        "            except ValueError:\n",
        "                # Ignore if the tag does not have a numeric value\n",
        "                pass\n",
        "\n",
        "    def handle_endtag(self, tag):\n",
        "        if tag.startswith('h'):\n",
        "            self.indentation = 0\n",
        "\n",
        "    def handle_data(self, data):\n",
        "        if data.strip() and self.indentation >= 0:\n",
        "            print('  ' * self.indentation + data.strip())\n",
        "\n",
        "\n",
        "# Test the implementation\n",
        "with open('w3c.html', 'r') as file:\n",
        "    html_data = file.read()\n",
        "\n",
        "parser = HeadingParser()\n",
        "parser.feed(html_data)\n"
      ],
      "metadata": {
        "colab": {
          "base_uri": "https://localhost:8080/"
        },
        "id": "5MUk7tWGFBZg",
        "outputId": "b67f5137-6185-4e7c-ab47-21525b57a775"
      },
      "execution_count": 72,
      "outputs": [
        {
          "output_type": "stream",
          "name": "stdout",
          "text": [
            "Change_me\n",
            "W3C Mission\n",
            "  Principles\n"
          ]
        }
      ]
    },
    {
      "cell_type": "markdown",
      "source": [
        "---\n",
        "***Question 7***\n",
        "---\n",
        "---\n",
        "Implement recursive function webdir() that takes as input: a URL (as a string) and\n",
        "non-negative integers depth and indent. Your function should visit every web\n",
        "page reachable from the starting URL web page in depth clicks or less, and print\n",
        "each web page's URL. As shown below, indentation, specified by indent, should\n",
        "be used to indicate the depth of a URL."
      ],
      "metadata": {
        "id": "wFOqMxRqItSY"
      }
    },
    {
      "cell_type": "code",
      "source": [
        "import requests\n",
        "from bs4 import BeautifulSoup\n",
        "\n",
        "def webdir(url, depth, indent=0):\n",
        "    if depth <0: #If depth is 0, terminate the recursion as there is no depth.\n",
        "        return\n",
        "\n",
        "    response = requests.get(url)\n",
        "    soup = BeautifulSoup(response.text, 'html.parser')\n",
        "\n",
        "    print(' ' * indent + url)\n",
        "    if depth == 0:\n",
        "        return\n",
        "    links = soup.find_all('a')\n",
        "    for link in links:\n",
        "        href = link.get('href')\n",
        "        if href and not href.startswith('http'):\n",
        "            href = url + href.strip('/')\n",
        "        webdir(href, depth - 1, indent + 1)\n",
        "\n",
        "webdir('http://reed.cs.depaul.edu/lperkovic/csc242/lecture1/', 2, 0)"
      ],
      "metadata": {
        "colab": {
          "base_uri": "https://localhost:8080/"
        },
        "id": "CXrNS4eGVzrG",
        "outputId": "0d1d6b38-2ad6-4566-9f06-ecbdcfbf6a4f"
      },
      "execution_count": 130,
      "outputs": [
        {
          "output_type": "stream",
          "name": "stdout",
          "text": [
            "http://reed.cs.depaul.edu/lperkovic/csc242/lecture1/\n",
            " http://reed.cs.depaul.edu/lperkovic/csc242/lecture1/Ch7.pptx\n",
            " http://reed.cs.depaul.edu/lperkovic/csc242/lecture1/caseStudy6/blackjack.py\n",
            " http://reed.cs.depaul.edu/lperkovic/csc242/lecture1/emoticon.py\n",
            " http://reed.cs.depaul.edu/lperkovic/csc242/lecture1/chapter7.zip\n"
          ]
        }
      ]
    },
    {
      "cell_type": "markdown",
      "source": [
        "---\n",
        "***Question 8***\n",
        "---\n",
        "---\n",
        "Write SQL queries on the below database table that return:\n",
        "\n",
        "a) All the temperature data.\n",
        "\n",
        "b) All the cities, but without repetition.\n",
        "\n",
        "c) All the records for India.\n",
        "\n",
        "d) All the Fall records.\n",
        "\n",
        "e) The city, country, and season for which the average rainfall is between 200\n",
        "and 400 millimeters.\n",
        "\n",
        "f) The city and country for which the average Fall temperature is above 20\n",
        "degrees, in increasing temperature order.\n",
        "\n",
        "g) The total annual rainfall for Cairo.\n",
        "\n",
        "h) The total rainfall for each season."
      ],
      "metadata": {
        "id": "HHCqf-N1SpNO"
      }
    },
    {
      "cell_type": "code",
      "source": [
        "import sqlite3\n",
        "\n",
        "# Connect to the database\n",
        "conn = sqlite3.connect('temp_data.db')\n",
        "cursor = conn.cursor()\n",
        "\n",
        "# Create the temperature_data table\n",
        "cursor.execute('''CREATE TABLE temp_data (\n",
        "                    City TEXT,\n",
        "                    Country TEXT,\n",
        "                    Season TEXT,\n",
        "                    Temperature FLOAT,\n",
        "                    Rainfall FLOAT\n",
        "                )''')\n",
        "\n",
        "# Commit the changes and close the connection\n",
        "conn.commit()\n"
      ],
      "metadata": {
        "colab": {
          "base_uri": "https://localhost:8080/",
          "height": 236
        },
        "id": "Ut2BXfE_O3qM",
        "outputId": "2b38b3fd-7572-4041-bcd5-3939349663a7"
      },
      "execution_count": 99,
      "outputs": [
        {
          "output_type": "error",
          "ename": "OperationalError",
          "evalue": "ignored",
          "traceback": [
            "\u001b[0;31m---------------------------------------------------------------------------\u001b[0m",
            "\u001b[0;31mOperationalError\u001b[0m                          Traceback (most recent call last)",
            "\u001b[0;32m<ipython-input-99-e23d62a9af71>\u001b[0m in \u001b[0;36m<cell line: 8>\u001b[0;34m()\u001b[0m\n\u001b[1;32m      6\u001b[0m \u001b[0;34m\u001b[0m\u001b[0m\n\u001b[1;32m      7\u001b[0m \u001b[0;31m# Create the temperature_data table\u001b[0m\u001b[0;34m\u001b[0m\u001b[0;34m\u001b[0m\u001b[0m\n\u001b[0;32m----> 8\u001b[0;31m cursor.execute('''CREATE TABLE temp_data (\n\u001b[0m\u001b[1;32m      9\u001b[0m                     \u001b[0mCity\u001b[0m \u001b[0mTEXT\u001b[0m\u001b[0;34m,\u001b[0m\u001b[0;34m\u001b[0m\u001b[0;34m\u001b[0m\u001b[0m\n\u001b[1;32m     10\u001b[0m                     \u001b[0mCountry\u001b[0m \u001b[0mTEXT\u001b[0m\u001b[0;34m,\u001b[0m\u001b[0;34m\u001b[0m\u001b[0;34m\u001b[0m\u001b[0m\n",
            "\u001b[0;31mOperationalError\u001b[0m: table temp_data already exists"
          ]
        }
      ]
    },
    {
      "cell_type": "code",
      "source": [
        "import sqlite3\n",
        "\n",
        "# Connect to the database\n",
        "conn = sqlite3.connect('temp_data1.db')\n",
        "cursor = conn.cursor()\n",
        "\n",
        "# Insert data into the temperature_data table\n",
        "temp_data = [\n",
        "   (\"Mumbai\",\"India\",\"Winter\",24.8,5.9),\n",
        "   (\"Mumbai\",\"India\",\"Spring\",28.4,16.2),\n",
        "   (\"Mumbai\",\"India\",\"Summer\",27.9,1549.4),\n",
        "   (\"Mumbai\",\"India\",\"Fall\",27.6,346),\n",
        "   (\"London\",\"United Kingdom\",\"Winter\",4.2,207.7),\n",
        "   (\"London\",\"United Kingdom\",\"Spring\",8.3,169.6),\n",
        "   (\"London\",\"United Kingdom\",\"Summer\",15.7,157),\n",
        "   (\"London\",\"United Kingdom\",\"Fall\",10.4,218.5),\n",
        "   (\"Cairo\",\"Egypt\",\"Winter\",13.6,16.5),\n",
        "   (\"Cairo\",\"Egypt\",\"Spring\",20.7,6.5),\n",
        "   (\"Cairo\",\"Egypt\",\"Summer\",27.7,0.1),\n",
        "   (\"Cairo\",\"Egypt\",\"Fall\",22.2,4.5)\n",
        "]\n",
        "\n",
        "cursor.executemany('INSERT INTO temp_data VALUES (?, ?,?,?,?)', temp_data)\n",
        "\n",
        "# Commit the changes and close the connection\n",
        "conn.commit()"
      ],
      "metadata": {
        "id": "EXB5xDvYOIH_"
      },
      "execution_count": 100,
      "outputs": []
    },
    {
      "cell_type": "code",
      "source": [
        "import sqlite3\n",
        "\n",
        "# Connect to the database\n",
        "conn = sqlite3.connect('temp_data.db')\n",
        "cursor = conn.cursor()\n",
        "\n",
        "# Execute the query\n",
        "cursor.execute(\"SELECT * FROM temp_data\")\n",
        "\n",
        "# Fetch all the rows\n",
        "temp_data = cursor.fetchall()\n",
        "\n",
        "# Print the temperature data\n",
        "print(\"All the temperature data\")\n",
        "print(\" \")\n",
        "for row in temp_data:\n",
        "    print(row)\n",
        "\n",
        "#conn.close()"
      ],
      "metadata": {
        "colab": {
          "base_uri": "https://localhost:8080/"
        },
        "id": "QQcnGTgsPeAW",
        "outputId": "2b88308a-d443-4167-8145-cb8f78f3c76c"
      },
      "execution_count": 101,
      "outputs": [
        {
          "output_type": "stream",
          "name": "stdout",
          "text": [
            "All the temperature data\n",
            " \n",
            "('Mumbai', 'India', 'Winter', 24.8, 5.9)\n",
            "('Mumbai', 'India', 'Spring', 28.4, 16.2)\n",
            "('Mumbai', 'India', 'Summer', 27.9, 1549.4)\n",
            "('Mumbai', 'India', 'Fall', 27.6, 346.0)\n",
            "('London', 'United Kingdom', 'Winter', 4.2, 207.7)\n",
            "('London', 'United Kingdom', 'Spring', 8.3, 169.6)\n",
            "('London', 'United Kingdom', 'Summer', 15.7, 157.0)\n",
            "('London', 'United Kingdom', 'Fall', 10.4, 218.5)\n",
            "('Cairo', 'Egypt', 'Winter', 13.6, 16.5)\n",
            "('Cairo', 'Egypt', 'Spring', 20.7, 6.5)\n",
            "('Cairo', 'Egypt', 'Summer', 27.7, 0.1)\n",
            "('Cairo', 'Egypt', 'Fall', 22.2, 4.5)\n",
            "('Mumbai', 'India', 'Winter', 24.8, 5.9)\n",
            "('Mumbai', 'India', 'Spring', 28.4, 16.2)\n",
            "('Mumbai', 'India', 'Summer', 27.9, 1549.4)\n",
            "('Mumbai', 'India', 'Fall', 27.6, 346.0)\n",
            "('London', 'United Kingdom', 'Winter', 4.2, 207.7)\n",
            "('London', 'United Kingdom', 'Spring', 8.3, 169.6)\n",
            "('London', 'United Kingdom', 'Summer', 15.7, 157.0)\n",
            "('London', 'United Kingdom', 'Fall', 10.4, 218.5)\n",
            "('Cairo', 'Egypt', 'Winter', 13.6, 16.5)\n",
            "('Cairo', 'Egypt', 'Spring', 20.7, 6.5)\n",
            "('Cairo', 'Egypt', 'Summer', 27.7, 0.1)\n",
            "('Cairo', 'Egypt', 'Fall', 22.2, 4.5)\n"
          ]
        }
      ]
    },
    {
      "cell_type": "code",
      "source": [
        "# b) All the cities, but without repetition\n",
        "cursor.execute(\"SELECT DISTINCT City FROM temp_data\")\n",
        "cities = cursor.fetchall()\n",
        "print(\"\\nCities:\")\n",
        "for city in cities:\n",
        "    print(city[0])"
      ],
      "metadata": {
        "colab": {
          "base_uri": "https://localhost:8080/"
        },
        "id": "gB8U9dkdPIa1",
        "outputId": "d6bb64c2-e713-42ac-883a-e9cd8e12a7d6"
      },
      "execution_count": 106,
      "outputs": [
        {
          "output_type": "stream",
          "name": "stdout",
          "text": [
            "\n",
            "Cities:\n",
            "Mumbai\n",
            "London\n",
            "Cairo\n"
          ]
        }
      ]
    },
    {
      "cell_type": "code",
      "source": [
        "# c) All the records for India\n",
        "cursor.execute(\"SELECT * FROM temp_data WHERE Country = 'India'\")\n",
        "india_records = cursor.fetchall()\n",
        "print(\"\\nRecords for India:\")\n",
        "for record in india_records:\n",
        "    print(record)"
      ],
      "metadata": {
        "colab": {
          "base_uri": "https://localhost:8080/"
        },
        "id": "DIqj7AHZRkLT",
        "outputId": "051ecdc9-e975-4d85-ab98-c53efd4be2af"
      },
      "execution_count": 107,
      "outputs": [
        {
          "output_type": "stream",
          "name": "stdout",
          "text": [
            "\n",
            "Records for India:\n",
            "('Mumbai', 'India', 'Winter', 24.8, 5.9)\n",
            "('Mumbai', 'India', 'Spring', 28.4, 16.2)\n",
            "('Mumbai', 'India', 'Summer', 27.9, 1549.4)\n",
            "('Mumbai', 'India', 'Fall', 27.6, 346.0)\n",
            "('Mumbai', 'India', 'Winter', 24.8, 5.9)\n",
            "('Mumbai', 'India', 'Spring', 28.4, 16.2)\n",
            "('Mumbai', 'India', 'Summer', 27.9, 1549.4)\n",
            "('Mumbai', 'India', 'Fall', 27.6, 346.0)\n"
          ]
        }
      ]
    },
    {
      "cell_type": "code",
      "source": [
        "# d) All the Fall records\n",
        "cursor.execute(\"SELECT * FROM temp_data WHERE Season = 'Fall'\")\n",
        "fall_records = cursor.fetchall()\n",
        "print(\"\\nFall Records:\")\n",
        "for record in fall_records:\n",
        "    print(record)"
      ],
      "metadata": {
        "colab": {
          "base_uri": "https://localhost:8080/"
        },
        "id": "hdMRO7oTRsEh",
        "outputId": "2beaae58-8699-4198-fea8-c9aff280c005"
      },
      "execution_count": 108,
      "outputs": [
        {
          "output_type": "stream",
          "name": "stdout",
          "text": [
            "\n",
            "Fall Records:\n",
            "('Mumbai', 'India', 'Fall', 27.6, 346.0)\n",
            "('London', 'United Kingdom', 'Fall', 10.4, 218.5)\n",
            "('Cairo', 'Egypt', 'Fall', 22.2, 4.5)\n",
            "('Mumbai', 'India', 'Fall', 27.6, 346.0)\n",
            "('London', 'United Kingdom', 'Fall', 10.4, 218.5)\n",
            "('Cairo', 'Egypt', 'Fall', 22.2, 4.5)\n"
          ]
        }
      ]
    },
    {
      "cell_type": "code",
      "source": [
        "# e) The city, country, and season for which the average rainfall is between 200 and 400 millimeters\n",
        "cursor.execute(\"SELECT City, Country, Season, Temperature FROM temp_data WHERE Rainfall BETWEEN 200 AND 400\")\n",
        "rainfall_records = cursor.fetchall()\n",
        "print(\"\\nRainfall Records (200-400mm):\")\n",
        "for record in rainfall_records:\n",
        "    print(record)"
      ],
      "metadata": {
        "colab": {
          "base_uri": "https://localhost:8080/"
        },
        "id": "TQQTXsLfRzXG",
        "outputId": "e6355858-616b-478e-c6cd-86c4b4a07a6f"
      },
      "execution_count": 112,
      "outputs": [
        {
          "output_type": "stream",
          "name": "stdout",
          "text": [
            "\n",
            "Rainfall Records (200-400mm):\n",
            "('Mumbai', 'India', 'Fall', 27.6)\n",
            "('London', 'United Kingdom', 'Winter', 4.2)\n",
            "('London', 'United Kingdom', 'Fall', 10.4)\n",
            "('Mumbai', 'India', 'Fall', 27.6)\n",
            "('London', 'United Kingdom', 'Winter', 4.2)\n",
            "('London', 'United Kingdom', 'Fall', 10.4)\n"
          ]
        }
      ]
    },
    {
      "cell_type": "code",
      "source": [
        "# f) The city and country for which the average Fall temperature is above 20 degrees, in increasing temperature order\n",
        "cursor.execute(\"SELECT City, Country FROM temp_data WHERE Season = 'Fall' AND Temperature > 20 ORDER BY Temperature ASC\")\n",
        "temperature_above_20 = cursor.fetchall()\n",
        "print(\"\\nCities with Average Fall Temperature > 20:\")\n",
        "for record in temperature_above_20:\n",
        "    print(record)"
      ],
      "metadata": {
        "colab": {
          "base_uri": "https://localhost:8080/"
        },
        "id": "JJuzVDYUR8gT",
        "outputId": "61599a42-71ac-4304-d8a8-78fb20e7ef42"
      },
      "execution_count": 113,
      "outputs": [
        {
          "output_type": "stream",
          "name": "stdout",
          "text": [
            "\n",
            "Cities with Average Fall Temperature > 20:\n",
            "('Cairo', 'Egypt')\n",
            "('Cairo', 'Egypt')\n",
            "('Mumbai', 'India')\n",
            "('Mumbai', 'India')\n"
          ]
        }
      ]
    },
    {
      "cell_type": "code",
      "source": [
        "# g) The total annual rainfall for Cairo\n",
        "cursor.execute(\"SELECT SUM(Rainfall) AS TotalRainfall FROM temp_data WHERE City = 'Cairo'\")\n",
        "total_rainfall_cairo = cursor.fetchone()[0]\n",
        "print(\"\\nTotal Annual Rainfall for Cairo:\", total_rainfall_cairo)"
      ],
      "metadata": {
        "colab": {
          "base_uri": "https://localhost:8080/"
        },
        "id": "42MHs80ESTXa",
        "outputId": "cc04b9a6-86a3-42c1-ab89-d41e8e8ff2d4"
      },
      "execution_count": 114,
      "outputs": [
        {
          "output_type": "stream",
          "name": "stdout",
          "text": [
            "\n",
            "Total Annual Rainfall for Cairo: 55.2\n"
          ]
        }
      ]
    },
    {
      "cell_type": "code",
      "source": [
        "# h) The total rainfall for each season\n",
        "cursor.execute(\"SELECT Season, SUM(Rainfall) AS TotalRainfall FROM temp_data GROUP BY Season\")\n",
        "total_rainfall_seasons = cursor.fetchall()\n",
        "print(\"\\nTotal Rainfall for Each Season:\")\n",
        "for record in total_rainfall_seasons:\n",
        "    print(record)"
      ],
      "metadata": {
        "colab": {
          "base_uri": "https://localhost:8080/"
        },
        "id": "gDL_CE8jSb4-",
        "outputId": "10cab784-536c-49c9-82dc-5d3a886bfa4f"
      },
      "execution_count": 115,
      "outputs": [
        {
          "output_type": "stream",
          "name": "stdout",
          "text": [
            "\n",
            "Total Rainfall for Each Season:\n",
            "('Fall', 1138.0)\n",
            "('Spring', 384.59999999999997)\n",
            "('Summer', 3413.0)\n",
            "('Winter', 460.2)\n"
          ]
        }
      ]
    },
    {
      "cell_type": "code",
      "source": [
        "cursor.close()\n",
        "conn.close()"
      ],
      "metadata": {
        "id": "dzstmlCISg3S"
      },
      "execution_count": 116,
      "outputs": []
    },
    {
      "cell_type": "markdown",
      "source": [
        "---\n",
        "Question 9\n",
        "---\n",
        "---\n",
        "\n",
        "Suppose list words is defined as follows:\n",
        "\n",
        "words = ['The', 'quick', 'brown', 'fox', 'jumps', 'over',\n",
        "'the', 'lazy', 'dog']\n",
        "\n",
        "Write list comprehension expressions that use list words and generate the following\n",
        "\n",
        "lists:\n",
        "\n",
        "a) ['THE', 'QUICK', 'BROWN', 'FOX', 'JUMPS', 'OVER', 'THE',\n",
        "'LAZY', 'DOG']\n",
        "\n",
        "b) ['the', 'quick', 'brown', 'fox', 'jumps', 'over', 'the',\n",
        "'lazy', 'dog']\n",
        "\n",
        "c) [3, 5, 5, 3, 5, 4, 3, 4, 3] (the list of lengths of words in list\n",
        "words).\n",
        "\n",
        "d) [['THE', 'the', 3], ['QUICK', 'quick', 5], ['BROWN',\n",
        "'brown', 5], ['FOX', 'fox', 3], ['JUMPS', 'jumps', 5],\n",
        "['OVER', 'over', 4], ['THE', 'the', 3], ['LAZY', 'lazy',\n",
        "4], ['DOG', 'dog', 3]] (the list containing a list for every word of list\n",
        "words, where each list contains the word in uppercase and lowercase and the\n",
        "length of the word.)\n",
        "\n",
        "e) ['The', 'quick', 'brown', 'fox', 'jumps', 'over', 'the',\n",
        "'lazy', 'dog'] (the list of words in list words containing 4 or more\n",
        "characters.)"
      ],
      "metadata": {
        "id": "s2eH8b6MS5T3"
      }
    },
    {
      "cell_type": "code",
      "source": [
        "words = ['The', 'quick', 'brown', 'fox', 'jumps', 'over', 'the','lazy','dog']"
      ],
      "metadata": {
        "id": "iBi4WAIpTRtU"
      },
      "execution_count": 126,
      "outputs": []
    },
    {
      "cell_type": "markdown",
      "source": [
        "a) ['THE', 'QUICK', 'BROWN', 'FOX', 'JUMPS', 'OVER', 'THE', 'LAZY', 'DOG']"
      ],
      "metadata": {
        "id": "DY-lUt-XTpf6"
      }
    },
    {
      "cell_type": "code",
      "source": [
        "words_upper = [word.upper() for word in words]\n",
        "words_upper"
      ],
      "metadata": {
        "colab": {
          "base_uri": "https://localhost:8080/"
        },
        "id": "P2tWAksTT7JJ",
        "outputId": "f65b3346-6576-41dd-ed3d-c16c60d0f50f"
      },
      "execution_count": 125,
      "outputs": [
        {
          "output_type": "execute_result",
          "data": {
            "text/plain": [
              "['THE', 'QUICK', 'BROWN', 'FOX', 'JUMPS', 'OVER', 'THE', 'LAZY', 'DOG']"
            ]
          },
          "metadata": {},
          "execution_count": 125
        }
      ]
    },
    {
      "cell_type": "markdown",
      "source": [
        "b) ['the', 'quick', 'brown', 'fox', 'jumps', 'over', 'the', 'lazy', 'dog']"
      ],
      "metadata": {
        "id": "TCeG-BRrT_GY"
      }
    },
    {
      "cell_type": "code",
      "source": [
        "words_lower = [word.lower() for word in words]\n",
        "words_lower"
      ],
      "metadata": {
        "colab": {
          "base_uri": "https://localhost:8080/"
        },
        "id": "kvf3Vi_1TVAb",
        "outputId": "71882cf0-6d5f-44c5-ba9c-315d39d010be"
      },
      "execution_count": 124,
      "outputs": [
        {
          "output_type": "execute_result",
          "data": {
            "text/plain": [
              "['the', 'quick', 'brown', 'fox', 'jumps', 'over', 'the', 'lazy', 'dog']"
            ]
          },
          "metadata": {},
          "execution_count": 124
        }
      ]
    },
    {
      "cell_type": "markdown",
      "source": [
        "c) [3, 5, 5, 3, 5, 4, 3, 4, 3] (the list of lengths of words in list words)."
      ],
      "metadata": {
        "id": "w2EXVvBOUnJF"
      }
    },
    {
      "cell_type": "code",
      "source": [
        "word_lengths = [len(word) for word in words]\n",
        "word_lengths"
      ],
      "metadata": {
        "colab": {
          "base_uri": "https://localhost:8080/"
        },
        "id": "f-9NPd4tTg8e",
        "outputId": "3e0692ef-dc15-46d5-fde6-c493c624973b"
      },
      "execution_count": 123,
      "outputs": [
        {
          "output_type": "execute_result",
          "data": {
            "text/plain": [
              "[3, 5, 5, 3, 5, 4, 3, 4, 3]"
            ]
          },
          "metadata": {},
          "execution_count": 123
        }
      ]
    },
    {
      "cell_type": "markdown",
      "source": [
        "d) [['THE', 'the', 3], ['QUICK', 'quick', 5], ['BROWN', 'brown', 5], ['FOX', 'fox', 3], ['JUMPS', 'jumps', 5], ['OVER', 'over', 4], ['THE', 'the', 3], ['LAZY', 'lazy', 4], ['DOG', 'dog', 3]] (the list containing a list for every word of list words, where each list contains the word in uppercase and lowercase and the length of the word.)"
      ],
      "metadata": {
        "id": "dyajjHmOUr6a"
      }
    },
    {
      "cell_type": "code",
      "source": [
        "word_info = [[word.upper(), word.lower(), len(word)] for word in words]\n",
        "word_info"
      ],
      "metadata": {
        "colab": {
          "base_uri": "https://localhost:8080/"
        },
        "id": "XasoBYukTjER",
        "outputId": "4ed5c39b-f807-40ea-f570-6ffec26c3694"
      },
      "execution_count": 122,
      "outputs": [
        {
          "output_type": "execute_result",
          "data": {
            "text/plain": [
              "[['THE', 'the', 3],\n",
              " ['QUICK', 'quick', 5],\n",
              " ['BROWN', 'brown', 5],\n",
              " ['FOX', 'fox', 3],\n",
              " ['JUMPS', 'jumps', 5],\n",
              " ['OVER', 'over', 4],\n",
              " ['THE', 'the', 3],\n",
              " ['LAZY', 'lazy', 4],\n",
              " ['DOG', 'dog', 3]]"
            ]
          },
          "metadata": {},
          "execution_count": 122
        }
      ]
    },
    {
      "cell_type": "markdown",
      "source": [
        "e) ['The', 'quick', 'brown', 'fox', 'jumps', 'over', 'the', 'lazy', 'dog'] (the list of words in list words containing 4 or more characters.)"
      ],
      "metadata": {
        "id": "xpMuy6tnUuwR"
      }
    },
    {
      "cell_type": "code",
      "source": [
        "words_4_or_more = [word for word in words if len(word) >= 4]\n",
        "words_4_or_more"
      ],
      "metadata": {
        "colab": {
          "base_uri": "https://localhost:8080/"
        },
        "id": "FK4UJ0P2UyOF",
        "outputId": "5b0247b9-4aef-45d5-c875-78d68c5b21aa"
      },
      "execution_count": 121,
      "outputs": [
        {
          "output_type": "execute_result",
          "data": {
            "text/plain": [
              "['quick', 'brown', 'jumps', 'over', 'lazy']"
            ]
          },
          "metadata": {},
          "execution_count": 121
        }
      ]
    }
  ]
}